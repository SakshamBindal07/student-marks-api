{
 "cells": [
  {
   "cell_type": "code",
   "execution_count": 1,
   "id": "829b9c51",
   "metadata": {
    "_cell_guid": "b1076dfc-b9ad-4769-8c92-a6c4dae69d19",
    "_kg_hide-output": true,
    "_uuid": "8f2839f25d086af736a60e9eeb907d3b93b6e0e5",
    "execution": {
     "iopub.execute_input": "2024-11-07T14:45:54.230460Z",
     "iopub.status.busy": "2024-11-07T14:45:54.230160Z",
     "iopub.status.idle": "2024-11-07T14:46:07.455346Z",
     "shell.execute_reply": "2024-11-07T14:46:07.454051Z"
    },
    "papermill": {
     "duration": 13.239779,
     "end_time": "2024-11-07T14:46:07.457435",
     "exception": false,
     "start_time": "2024-11-07T14:45:54.217656",
     "status": "completed"
    },
    "tags": []
   },
   "outputs": [
    {
     "name": "stdout",
     "output_type": "stream",
     "text": [
      "Collecting contractions\r\n",
      "  Downloading contractions-0.1.73-py2.py3-none-any.whl.metadata (1.2 kB)\r\n",
      "Collecting textsearch>=0.0.21 (from contractions)\r\n",
      "  Downloading textsearch-0.0.24-py2.py3-none-any.whl.metadata (1.2 kB)\r\n",
      "Collecting anyascii (from textsearch>=0.0.21->contractions)\r\n",
      "  Downloading anyascii-0.3.2-py3-none-any.whl.metadata (1.5 kB)\r\n",
      "Collecting pyahocorasick (from textsearch>=0.0.21->contractions)\r\n",
      "  Downloading pyahocorasick-2.1.0-cp310-cp310-manylinux_2_5_x86_64.manylinux1_x86_64.manylinux_2_12_x86_64.manylinux2010_x86_64.whl.metadata (13 kB)\r\n",
      "Downloading contractions-0.1.73-py2.py3-none-any.whl (8.7 kB)\r\n",
      "Downloading textsearch-0.0.24-py2.py3-none-any.whl (7.6 kB)\r\n",
      "Downloading anyascii-0.3.2-py3-none-any.whl (289 kB)\r\n",
      "\u001b[2K   \u001b[90m━━━━━━━━━━━━━━━━━━━━━━━━━━━━━━━━━━━━━━━━\u001b[0m \u001b[32m289.9/289.9 kB\u001b[0m \u001b[31m5.8 MB/s\u001b[0m eta \u001b[36m0:00:00\u001b[0m\r\n",
      "\u001b[?25hDownloading pyahocorasick-2.1.0-cp310-cp310-manylinux_2_5_x86_64.manylinux1_x86_64.manylinux_2_12_x86_64.manylinux2010_x86_64.whl (110 kB)\r\n",
      "\u001b[2K   \u001b[90m━━━━━━━━━━━━━━━━━━━━━━━━━━━━━━━━━━━━━━━━\u001b[0m \u001b[32m110.7/110.7 kB\u001b[0m \u001b[31m7.8 MB/s\u001b[0m eta \u001b[36m0:00:00\u001b[0m\r\n",
      "\u001b[?25hInstalling collected packages: pyahocorasick, anyascii, textsearch, contractions\r\n",
      "Successfully installed anyascii-0.3.2 contractions-0.1.73 pyahocorasick-2.1.0 textsearch-0.0.24\r\n",
      "Note: you may need to restart the kernel to use updated packages.\n"
     ]
    }
   ],
   "source": [
    "pip install contractions"
   ]
  },
  {
   "cell_type": "markdown",
   "id": "7e9b4fad",
   "metadata": {
    "papermill": {
     "duration": 0.011602,
     "end_time": "2024-11-07T14:46:07.482402",
     "exception": false,
     "start_time": "2024-11-07T14:46:07.470800",
     "status": "completed"
    },
    "tags": []
   },
   "source": [
    "---\n",
    "# Import Libraries"
   ]
  },
  {
   "cell_type": "code",
   "execution_count": 2,
   "id": "a5a56cc4",
   "metadata": {
    "execution": {
     "iopub.execute_input": "2024-11-07T14:46:07.507210Z",
     "iopub.status.busy": "2024-11-07T14:46:07.506851Z",
     "iopub.status.idle": "2024-11-07T14:46:09.950917Z",
     "shell.execute_reply": "2024-11-07T14:46:09.950126Z"
    },
    "papermill": {
     "duration": 2.459149,
     "end_time": "2024-11-07T14:46:09.953244",
     "exception": false,
     "start_time": "2024-11-07T14:46:07.494095",
     "status": "completed"
    },
    "tags": []
   },
   "outputs": [],
   "source": [
    "import numpy as np\n",
    "import pandas as pd\n",
    "from matplotlib import pyplot as plt\n",
    "import seaborn as sns\n",
    "import re\n",
    "import contractions\n",
    "from sklearn.model_selection import train_test_split\n",
    "from sklearn.feature_extraction.text import TfidfVectorizer\n",
    "from sklearn.linear_model import LogisticRegression\n",
    "from sklearn.metrics import accuracy_score, classification_report\n",
    "from sklearn.multiclass import OneVsRestClassifier"
   ]
  },
  {
   "cell_type": "markdown",
   "id": "351b5748",
   "metadata": {
    "papermill": {
     "duration": 0.011517,
     "end_time": "2024-11-07T14:46:09.976854",
     "exception": false,
     "start_time": "2024-11-07T14:46:09.965337",
     "status": "completed"
    },
    "tags": []
   },
   "source": [
    "---\n",
    "# 1. Road and Explore Dataset"
   ]
  },
  {
   "cell_type": "code",
   "execution_count": 3,
   "id": "78656446",
   "metadata": {
    "execution": {
     "iopub.execute_input": "2024-11-07T14:46:10.001832Z",
     "iopub.status.busy": "2024-11-07T14:46:10.001398Z",
     "iopub.status.idle": "2024-11-07T14:46:11.541670Z",
     "shell.execute_reply": "2024-11-07T14:46:11.540805Z"
    },
    "jupyter": {
     "source_hidden": true
    },
    "papermill": {
     "duration": 1.555326,
     "end_time": "2024-11-07T14:46:11.544092",
     "exception": false,
     "start_time": "2024-11-07T14:46:09.988766",
     "status": "completed"
    },
    "tags": []
   },
   "outputs": [],
   "source": [
    "# Load the dataset\n",
    "train_df = pd.read_csv('/kaggle/input/jigsaw-toxic-comment-classification-challenge/train.csv.zip')"
   ]
  },
  {
   "cell_type": "code",
   "execution_count": 4,
   "id": "7828b194",
   "metadata": {
    "_kg_hide-input": false,
    "execution": {
     "iopub.execute_input": "2024-11-07T14:46:11.569248Z",
     "iopub.status.busy": "2024-11-07T14:46:11.568878Z",
     "iopub.status.idle": "2024-11-07T14:46:11.595997Z",
     "shell.execute_reply": "2024-11-07T14:46:11.595128Z"
    },
    "jupyter": {
     "source_hidden": true
    },
    "papermill": {
     "duration": 0.041729,
     "end_time": "2024-11-07T14:46:11.597874",
     "exception": false,
     "start_time": "2024-11-07T14:46:11.556145",
     "status": "completed"
    },
    "tags": []
   },
   "outputs": [
    {
     "data": {
      "text/html": [
       "<div>\n",
       "<style scoped>\n",
       "    .dataframe tbody tr th:only-of-type {\n",
       "        vertical-align: middle;\n",
       "    }\n",
       "\n",
       "    .dataframe tbody tr th {\n",
       "        vertical-align: top;\n",
       "    }\n",
       "\n",
       "    .dataframe thead th {\n",
       "        text-align: right;\n",
       "    }\n",
       "</style>\n",
       "<table border=\"1\" class=\"dataframe\">\n",
       "  <thead>\n",
       "    <tr style=\"text-align: right;\">\n",
       "      <th></th>\n",
       "      <th>id</th>\n",
       "      <th>comment_text</th>\n",
       "      <th>toxic</th>\n",
       "      <th>severe_toxic</th>\n",
       "      <th>obscene</th>\n",
       "      <th>threat</th>\n",
       "      <th>insult</th>\n",
       "      <th>identity_hate</th>\n",
       "    </tr>\n",
       "  </thead>\n",
       "  <tbody>\n",
       "    <tr>\n",
       "      <th>133263</th>\n",
       "      <td>c8f803459a9c41ca</td>\n",
       "      <td>It's spelled ROGUE \\nWhy am I triple-plussed u...</td>\n",
       "      <td>0</td>\n",
       "      <td>0</td>\n",
       "      <td>0</td>\n",
       "      <td>0</td>\n",
       "      <td>0</td>\n",
       "      <td>0</td>\n",
       "    </tr>\n",
       "    <tr>\n",
       "      <th>108889</th>\n",
       "      <td>4626ce272de9dfb1</td>\n",
       "      <td>I made a legitimate response to a DYN nominati...</td>\n",
       "      <td>0</td>\n",
       "      <td>0</td>\n",
       "      <td>0</td>\n",
       "      <td>0</td>\n",
       "      <td>0</td>\n",
       "      <td>0</td>\n",
       "    </tr>\n",
       "    <tr>\n",
       "      <th>23949</th>\n",
       "      <td>3f3d091802e22cc0</td>\n",
       "      <td>Are you a middle school student?</td>\n",
       "      <td>0</td>\n",
       "      <td>0</td>\n",
       "      <td>0</td>\n",
       "      <td>0</td>\n",
       "      <td>0</td>\n",
       "      <td>0</td>\n",
       "    </tr>\n",
       "    <tr>\n",
       "      <th>9717</th>\n",
       "      <td>19bb7e332324872a</td>\n",
       "      <td>\"\\n\\nPlease review WP:CIVIL specifically, \"\"Ta...</td>\n",
       "      <td>0</td>\n",
       "      <td>0</td>\n",
       "      <td>0</td>\n",
       "      <td>0</td>\n",
       "      <td>0</td>\n",
       "      <td>0</td>\n",
       "    </tr>\n",
       "    <tr>\n",
       "      <th>72457</th>\n",
       "      <td>c1e5f6dce863a2fc</td>\n",
       "      <td>Betty, Bakhshi is clearly not willing to compr...</td>\n",
       "      <td>0</td>\n",
       "      <td>0</td>\n",
       "      <td>0</td>\n",
       "      <td>0</td>\n",
       "      <td>0</td>\n",
       "      <td>0</td>\n",
       "    </tr>\n",
       "  </tbody>\n",
       "</table>\n",
       "</div>"
      ],
      "text/plain": [
       "                      id                                       comment_text  \\\n",
       "133263  c8f803459a9c41ca  It's spelled ROGUE \\nWhy am I triple-plussed u...   \n",
       "108889  4626ce272de9dfb1  I made a legitimate response to a DYN nominati...   \n",
       "23949   3f3d091802e22cc0                   Are you a middle school student?   \n",
       "9717    19bb7e332324872a  \"\\n\\nPlease review WP:CIVIL specifically, \"\"Ta...   \n",
       "72457   c1e5f6dce863a2fc  Betty, Bakhshi is clearly not willing to compr...   \n",
       "\n",
       "        toxic  severe_toxic  obscene  threat  insult  identity_hate  \n",
       "133263      0             0        0       0       0              0  \n",
       "108889      0             0        0       0       0              0  \n",
       "23949       0             0        0       0       0              0  \n",
       "9717        0             0        0       0       0              0  \n",
       "72457       0             0        0       0       0              0  "
      ]
     },
     "execution_count": 4,
     "metadata": {},
     "output_type": "execute_result"
    }
   ],
   "source": [
    "# Display the dataset\n",
    "train_df.sample(5)"
   ]
  },
  {
   "cell_type": "code",
   "execution_count": 5,
   "id": "646a8c2c",
   "metadata": {
    "_kg_hide-input": true,
    "execution": {
     "iopub.execute_input": "2024-11-07T14:46:11.623026Z",
     "iopub.status.busy": "2024-11-07T14:46:11.622715Z",
     "iopub.status.idle": "2024-11-07T14:46:11.678880Z",
     "shell.execute_reply": "2024-11-07T14:46:11.677928Z"
    },
    "jupyter": {
     "source_hidden": true
    },
    "papermill": {
     "duration": 0.070959,
     "end_time": "2024-11-07T14:46:11.680965",
     "exception": false,
     "start_time": "2024-11-07T14:46:11.610006",
     "status": "completed"
    },
    "tags": []
   },
   "outputs": [
    {
     "name": "stdout",
     "output_type": "stream",
     "text": [
      "<class 'pandas.core.frame.DataFrame'>\n",
      "RangeIndex: 159571 entries, 0 to 159570\n",
      "Data columns (total 8 columns):\n",
      " #   Column         Non-Null Count   Dtype \n",
      "---  ------         --------------   ----- \n",
      " 0   id             159571 non-null  object\n",
      " 1   comment_text   159571 non-null  object\n",
      " 2   toxic          159571 non-null  int64 \n",
      " 3   severe_toxic   159571 non-null  int64 \n",
      " 4   obscene        159571 non-null  int64 \n",
      " 5   threat         159571 non-null  int64 \n",
      " 6   insult         159571 non-null  int64 \n",
      " 7   identity_hate  159571 non-null  int64 \n",
      "dtypes: int64(6), object(2)\n",
      "memory usage: 9.7+ MB\n"
     ]
    }
   ],
   "source": [
    "# Overview of datasets structure, column data types, non-null counts.\n",
    "train_df.info()"
   ]
  },
  {
   "cell_type": "markdown",
   "id": "5fe20951",
   "metadata": {
    "papermill": {
     "duration": 0.011907,
     "end_time": "2024-11-07T14:46:11.705095",
     "exception": false,
     "start_time": "2024-11-07T14:46:11.693188",
     "status": "completed"
    },
    "tags": []
   },
   "source": [
    "---\n",
    "# 2. Define Offensive Word Patterns (Regex) for Text Cleaning"
   ]
  },
  {
   "cell_type": "code",
   "execution_count": 6,
   "id": "a159ecd6",
   "metadata": {
    "execution": {
     "iopub.execute_input": "2024-11-07T14:46:11.730610Z",
     "iopub.status.busy": "2024-11-07T14:46:11.730314Z",
     "iopub.status.idle": "2024-11-07T14:46:11.737397Z",
     "shell.execute_reply": "2024-11-07T14:46:11.736568Z"
    },
    "jupyter": {
     "source_hidden": true
    },
    "papermill": {
     "duration": 0.022217,
     "end_time": "2024-11-07T14:46:11.739387",
     "exception": false,
     "start_time": "2024-11-07T14:46:11.717170",
     "status": "completed"
    },
    "tags": []
   },
   "outputs": [],
   "source": [
    "# Define common offensive words with regex patterns\n",
    "offensive_patterns = {\n",
    "    \"fuck\": r\"\\b[f|ph|_|*][\\W_]*[u|*|@|_][\\W_]*[c|k|*|_][\\W_]*[k|*|_](?:[e|*|r|_|*|s|ing]*)?\\b\",\n",
    "    \"shit\": r\"\\b[s|$|5][\\W_]*[h|*][\\W_]*[i|!|*|1][\\W_]*[t|*|+]\\b\",\n",
    "    \"bitch\": r\"\\b[b|*|8][\\W_]*[i|!|1|*][\\W_]*[t|*][\\W_]*[c|*][\\W_]*[h|*](?:[s|*]*)?\\b\",\n",
    "    \"asshole\": r\"\\b[a|@][\\W_]*[s|$|*][\\W_]*[s|$|*|5][\\W_]*[h|*][\\W_]*[o|0|*][\\W_]*[l|*|1][\\W_]*[e|*]\\b\",\n",
    "    \"cocksucker\": r\"\\b[c|k][\\W_]*[o|0][\\W_]*[c|*][\\W_]*[k|*][\\W_]*[s|$][\\W_]*[u|*][\\W_]*[c|*][\\W_]*[k|*][\\W_]*[e|*][\\W_]*[r|*]\\b\",\n",
    "    \"motherfucker\": r\"\\b[m|*][\\W_]*[o|0][\\W_]*[t|*][\\W_]*[h|*][\\W_]*[e|*][\\W_]*[r|*][\\W_]*[f|ph][\\W_]*[u|*|@][\\W_]*[c|*][\\W_]*[k|*][\\W_]*[e|*][\\W_]*[r|*]\\b\",\n",
    "    \"slut\": r\"\\b[s|$][\\W_]*[l|*][\\W_]*[u|*][\\W_]*[t|*]\\b\",\n",
    "    \"whore\": r\"\\b[w|h|#][\\W_]*[o|0|*][\\W_]*[r|*][\\W_]*[e|*]\\b\",\n",
    "    \"punk\": r\"\\b[p|*][\\W_]*[u|*][\\W_]*[n|*][\\W_]*[k|*]\\b\",\n",
    "    \"crap\": r\"\\b[c|*][\\W_]*[r|*][\\W_]*[a|@][\\W_]*[p|*]\\b\",\n",
    "    \"loser\": r\"\\b[l|*][\\W_]*[o|0|*][\\W_]*[s|$][\\W_]*[e|*][\\W_]*[r|*]\\b\",\n",
    "    \"gay\": r\"\\b[g|*][\\W_]*[a|@][\\W_]*[y|*]\\b\",\n",
    "    \"retarded\": r\"\\b[r|*][\\W_]*[e|*][\\W_]*[t|*][\\W_]*[a|@][\\W_]*[r|*][\\W_]*[d|*][\\W_]*[e|*][\\W_]*[d|*]\\b\",\n",
    "    \"dumb\": r\"\\b[d|*][\\W_]*[u|*][\\W_]*[m|*][\\W_]*[b|*]\\b\",\n",
    "    \"freak\": r\"\\b[f|*][\\W_]*[r|*][\\W_]*[e|*][\\W_]*[a|@][\\W_]*[k|*]\\b\",\n",
    "    \"kill\": r\"\\b[k|*][\\W_]*[i|!][\\W_]*[l|*|!][\\W_]*[l|*|!]\\b\",\n",
    "    \"die\": r\"\\b[d|*][\\W_]*[i|!][\\W_]*[e|*|3]\\b\",\n",
    "    \"hate\": r\"\\b[h|*|#][\\W_]*[a|@][\\W_]*[t|*|+][\\W_]*[e|*]\\b\",\n",
    "    \"ugly\": r\"\\b[u|*][\\W_]*[g|*][\\W_]*[l|*][\\W_]*[y|*]\\b\",\n",
    "    \"nerd\": r\"\\b[n|*][\\W_]*[e|*|3][\\W_]*[r|*][\\W_]*[d|*]\\b\",\n",
    "    \"sex\": r\"\\b[s|5|$][\\W_]*[e|3|*][\\W_]*[x|*]\\b\",\n",
    "    \"dick\": r\"\\b[d|*][\\W_]*[i|!][\\W_]*[c|*][\\W_]*[k|*]\\b\",\n",
    "    \"fat\": r\"\\b[f|*][\\W_]*[a|@][\\W_]*[t|*]\\b\",\n",
    "    \"stupid\": r\"\\b[s|$|*][\\W_]*[t|*|+][\\W_]*[u|*][\\W_]*[p|*][\\W_]*[i|!][\\W_]*[d|*]\\b\",\n",
    "    \"boobs\": r\"\\b[b|8][\\W_]*[o|0|*][\\W_]*[o|0|*][\\W_]*[b|8][\\W_]*[s|$]\\b\",\n",
    "    \"nipple\": r\"\\b[n|*][\\W_]*[i|!|1][\\W_]*[p|*][\\W_]*[p|*][\\W_]*[l|*|1][\\W_]*[e|*]\\b\",\n",
    "    \"moron\": r\"\\b[m|*][\\W_]*[o|0][\\W_]*[r|*][\\W_]*[o|0|*][\\W_]*[n|*]\\b\",\n",
    "    \"nigga\": r\"\\b[n|*][\\W_]*[i|1|!][\\W_]*[g|*][\\W_]*[g|*][\\W_]*[a|@]\\b\"\n",
    "}"
   ]
  },
  {
   "cell_type": "markdown",
   "id": "c4814405",
   "metadata": {
    "papermill": {
     "duration": 0.012029,
     "end_time": "2024-11-07T14:46:11.763844",
     "exception": false,
     "start_time": "2024-11-07T14:46:11.751815",
     "status": "completed"
    },
    "tags": []
   },
   "source": [
    "---\n",
    "# 3. Data Pre-processing"
   ]
  },
  {
   "cell_type": "markdown",
   "id": "666f504f",
   "metadata": {
    "papermill": {
     "duration": 0.012067,
     "end_time": "2024-11-07T14:46:11.788197",
     "exception": false,
     "start_time": "2024-11-07T14:46:11.776130",
     "status": "completed"
    },
    "tags": []
   },
   "source": [
    "* Missing Values\n",
    "* Convert text to lowercase\n",
    "* Remove mentions (usernames starting with '@')\n",
    "* Remove URLs\n",
    "* Expand contractions\n",
    "* Replace masked offensive words\n",
    "* Clean up any remaining unwanted characters\n",
    "* Remove numerical values using regex\n",
    "* Count words in each column (after cleaning)\n",
    "* Remove rows with more than 250 words\n",
    "* Sum of tags for each row (comment)"
   ]
  },
  {
   "cell_type": "code",
   "execution_count": 7,
   "id": "29efc518",
   "metadata": {
    "execution": {
     "iopub.execute_input": "2024-11-07T14:46:11.813497Z",
     "iopub.status.busy": "2024-11-07T14:46:11.813192Z",
     "iopub.status.idle": "2024-11-07T14:46:11.852214Z",
     "shell.execute_reply": "2024-11-07T14:46:11.851492Z"
    },
    "jupyter": {
     "source_hidden": true
    },
    "papermill": {
     "duration": 0.053894,
     "end_time": "2024-11-07T14:46:11.854161",
     "exception": false,
     "start_time": "2024-11-07T14:46:11.800267",
     "status": "completed"
    },
    "tags": []
   },
   "outputs": [],
   "source": [
    "# Check for missing values and drop any null rows\n",
    "train_df = train_df.dropna(subset=['comment_text'])"
   ]
  },
  {
   "cell_type": "code",
   "execution_count": 8,
   "id": "8b59033a",
   "metadata": {
    "execution": {
     "iopub.execute_input": "2024-11-07T14:46:11.879547Z",
     "iopub.status.busy": "2024-11-07T14:46:11.879252Z",
     "iopub.status.idle": "2024-11-07T14:47:44.618280Z",
     "shell.execute_reply": "2024-11-07T14:47:44.617442Z"
    },
    "jupyter": {
     "source_hidden": true
    },
    "papermill": {
     "duration": 92.754516,
     "end_time": "2024-11-07T14:47:44.620840",
     "exception": false,
     "start_time": "2024-11-07T14:46:11.866324",
     "status": "completed"
    },
    "tags": []
   },
   "outputs": [],
   "source": [
    "# Text Cleaning\n",
    "\n",
    "def clean_text(text):\n",
    "    # Convert text to lowercase\n",
    "    text = text.lower()\n",
    "\n",
    "    # Remove mentions (usernames starting with '@')\n",
    "    text = re.sub(r'@\\w+', '', text)\n",
    "\n",
    "    # Remove URLs\n",
    "    text = re.sub(r'http\\S+|www\\S+|https\\S+', '', text)\n",
    "\n",
    "    # Expand contractions\n",
    "    text = contractions.fix(text)\n",
    "    \n",
    "    # Replace masked offensive words\n",
    "    for word, pattern in offensive_patterns.items():\n",
    "        text = re.sub(pattern, word, text)  # Substitute masked word with original\n",
    "\n",
    "    # Clean up any remaining unwanted characters\n",
    "    text = re.sub(r'\\W+', ' ', text)\n",
    "    text = text.strip()\n",
    "\n",
    "    # Remove numerical values using regex\n",
    "    text = re.sub(r'\\d+', '', text)  # Removes all digits\n",
    "\n",
    "    return text\n",
    "\n",
    "train_df['cleaned_text'] = train_df['comment_text'].apply(clean_text)"
   ]
  },
  {
   "cell_type": "code",
   "execution_count": 9,
   "id": "551bb8aa",
   "metadata": {
    "execution": {
     "iopub.execute_input": "2024-11-07T14:47:44.649340Z",
     "iopub.status.busy": "2024-11-07T14:47:44.648979Z",
     "iopub.status.idle": "2024-11-07T14:47:45.449371Z",
     "shell.execute_reply": "2024-11-07T14:47:45.448303Z"
    },
    "jupyter": {
     "source_hidden": true
    },
    "papermill": {
     "duration": 0.816903,
     "end_time": "2024-11-07T14:47:45.451993",
     "exception": false,
     "start_time": "2024-11-07T14:47:44.635090",
     "status": "completed"
    },
    "tags": []
   },
   "outputs": [],
   "source": [
    "# Count words in each column (after cleaning)\n",
    "train_df['word_count'] = train_df['cleaned_text'].apply(lambda x: len(x.split()))"
   ]
  },
  {
   "cell_type": "code",
   "execution_count": 10,
   "id": "14dfe24b",
   "metadata": {
    "execution": {
     "iopub.execute_input": "2024-11-07T14:47:45.479033Z",
     "iopub.status.busy": "2024-11-07T14:47:45.478220Z",
     "iopub.status.idle": "2024-11-07T14:47:45.511115Z",
     "shell.execute_reply": "2024-11-07T14:47:45.510077Z"
    },
    "jupyter": {
     "source_hidden": true
    },
    "papermill": {
     "duration": 0.048797,
     "end_time": "2024-11-07T14:47:45.513635",
     "exception": false,
     "start_time": "2024-11-07T14:47:45.464838",
     "status": "completed"
    },
    "tags": []
   },
   "outputs": [],
   "source": [
    "# Remove rows with more than 250 words\n",
    "train_df = train_df[train_df['word_count'] <= 250]"
   ]
  },
  {
   "cell_type": "code",
   "execution_count": 11,
   "id": "dc0133ba",
   "metadata": {
    "execution": {
     "iopub.execute_input": "2024-11-07T14:47:45.543447Z",
     "iopub.status.busy": "2024-11-07T14:47:45.543094Z",
     "iopub.status.idle": "2024-11-07T14:47:45.581754Z",
     "shell.execute_reply": "2024-11-07T14:47:45.580679Z"
    },
    "jupyter": {
     "source_hidden": true
    },
    "papermill": {
     "duration": 0.057092,
     "end_time": "2024-11-07T14:47:45.584026",
     "exception": false,
     "start_time": "2024-11-07T14:47:45.526934",
     "status": "completed"
    },
    "tags": []
   },
   "outputs": [],
   "source": [
    "# Sum the tags for each row (comment)\n",
    "train_df.loc[:, 'tag_count'] = train_df[['toxic', 'severe_toxic', 'obscene', 'threat', 'insult', 'identity_hate']].sum(axis=1)"
   ]
  },
  {
   "cell_type": "code",
   "execution_count": 12,
   "id": "a3842e41",
   "metadata": {
    "execution": {
     "iopub.execute_input": "2024-11-07T14:47:45.610411Z",
     "iopub.status.busy": "2024-11-07T14:47:45.610022Z",
     "iopub.status.idle": "2024-11-07T14:47:45.629141Z",
     "shell.execute_reply": "2024-11-07T14:47:45.628281Z"
    },
    "jupyter": {
     "source_hidden": true
    },
    "papermill": {
     "duration": 0.034874,
     "end_time": "2024-11-07T14:47:45.631302",
     "exception": false,
     "start_time": "2024-11-07T14:47:45.596428",
     "status": "completed"
    },
    "tags": []
   },
   "outputs": [
    {
     "data": {
      "text/html": [
       "<div>\n",
       "<style scoped>\n",
       "    .dataframe tbody tr th:only-of-type {\n",
       "        vertical-align: middle;\n",
       "    }\n",
       "\n",
       "    .dataframe tbody tr th {\n",
       "        vertical-align: top;\n",
       "    }\n",
       "\n",
       "    .dataframe thead th {\n",
       "        text-align: right;\n",
       "    }\n",
       "</style>\n",
       "<table border=\"1\" class=\"dataframe\">\n",
       "  <thead>\n",
       "    <tr style=\"text-align: right;\">\n",
       "      <th></th>\n",
       "      <th>id</th>\n",
       "      <th>comment_text</th>\n",
       "      <th>toxic</th>\n",
       "      <th>severe_toxic</th>\n",
       "      <th>obscene</th>\n",
       "      <th>threat</th>\n",
       "      <th>insult</th>\n",
       "      <th>identity_hate</th>\n",
       "      <th>cleaned_text</th>\n",
       "      <th>word_count</th>\n",
       "      <th>tag_count</th>\n",
       "    </tr>\n",
       "  </thead>\n",
       "  <tbody>\n",
       "    <tr>\n",
       "      <th>25869</th>\n",
       "      <td>44745ba60e82a512</td>\n",
       "      <td>\"\\n\\nThe \"\"country\"\" section in the infobox\\nI...</td>\n",
       "      <td>0</td>\n",
       "      <td>0</td>\n",
       "      <td>0</td>\n",
       "      <td>0</td>\n",
       "      <td>0</td>\n",
       "      <td>0</td>\n",
       "      <td>the country section in the infobox i think thi...</td>\n",
       "      <td>43</td>\n",
       "      <td>0</td>\n",
       "    </tr>\n",
       "    <tr>\n",
       "      <th>71014</th>\n",
       "      <td>be110535c0aa1691</td>\n",
       "      <td>\"Well, yes. Sorry, as a non-expert, non-German...</td>\n",
       "      <td>0</td>\n",
       "      <td>0</td>\n",
       "      <td>0</td>\n",
       "      <td>0</td>\n",
       "      <td>0</td>\n",
       "      <td>0</td>\n",
       "      <td>well yes sorry as a non expert non german spea...</td>\n",
       "      <td>238</td>\n",
       "      <td>0</td>\n",
       "    </tr>\n",
       "    <tr>\n",
       "      <th>124029</th>\n",
       "      <td>975a4681ec779f6a</td>\n",
       "      <td>I use coord template with decimal parameters a...</td>\n",
       "      <td>0</td>\n",
       "      <td>0</td>\n",
       "      <td>0</td>\n",
       "      <td>0</td>\n",
       "      <td>0</td>\n",
       "      <td>0</td>\n",
       "      <td>i use coord template with decimal parameters a...</td>\n",
       "      <td>49</td>\n",
       "      <td>0</td>\n",
       "    </tr>\n",
       "    <tr>\n",
       "      <th>9018</th>\n",
       "      <td>17ff49f1bac84fa6</td>\n",
       "      <td>Yeah, I think that's a five. Thanks for the re...</td>\n",
       "      <td>0</td>\n",
       "      <td>0</td>\n",
       "      <td>0</td>\n",
       "      <td>0</td>\n",
       "      <td>0</td>\n",
       "      <td>0</td>\n",
       "      <td>yeah i think that is a five thanks for the reply</td>\n",
       "      <td>11</td>\n",
       "      <td>0</td>\n",
       "    </tr>\n",
       "    <tr>\n",
       "      <th>26228</th>\n",
       "      <td>4564596859ce8045</td>\n",
       "      <td>The Above Info \\n\\nMy friend Ketchuphed is a l...</td>\n",
       "      <td>0</td>\n",
       "      <td>0</td>\n",
       "      <td>0</td>\n",
       "      <td>0</td>\n",
       "      <td>0</td>\n",
       "      <td>0</td>\n",
       "      <td>the above info my friend ketchuphed is a littl...</td>\n",
       "      <td>33</td>\n",
       "      <td>0</td>\n",
       "    </tr>\n",
       "    <tr>\n",
       "      <th>69833</th>\n",
       "      <td>bacf1d1ef0dc32a6</td>\n",
       "      <td>And then the following exchange, in which I an...</td>\n",
       "      <td>0</td>\n",
       "      <td>0</td>\n",
       "      <td>0</td>\n",
       "      <td>0</td>\n",
       "      <td>0</td>\n",
       "      <td>0</td>\n",
       "      <td>and then the following exchange in which i ans...</td>\n",
       "      <td>75</td>\n",
       "      <td>0</td>\n",
       "    </tr>\n",
       "    <tr>\n",
       "      <th>97092</th>\n",
       "      <td>0776bc41e4e8f7f3</td>\n",
       "      <td>The article features sourced quotes from the a...</td>\n",
       "      <td>0</td>\n",
       "      <td>0</td>\n",
       "      <td>0</td>\n",
       "      <td>0</td>\n",
       "      <td>0</td>\n",
       "      <td>0</td>\n",
       "      <td>the article features sourced quotes from the a...</td>\n",
       "      <td>19</td>\n",
       "      <td>0</td>\n",
       "    </tr>\n",
       "    <tr>\n",
       "      <th>119821</th>\n",
       "      <td>80c55d017652bf64</td>\n",
       "      <td>I don't see it that way. As an admin, I've alr...</td>\n",
       "      <td>0</td>\n",
       "      <td>0</td>\n",
       "      <td>0</td>\n",
       "      <td>0</td>\n",
       "      <td>0</td>\n",
       "      <td>0</td>\n",
       "      <td>i do not see it that way as an admin i have al...</td>\n",
       "      <td>78</td>\n",
       "      <td>0</td>\n",
       "    </tr>\n",
       "    <tr>\n",
       "      <th>89154</th>\n",
       "      <td>ee891fa43e5bcf6e</td>\n",
       "      <td>This page was improperly moved. You should go ...</td>\n",
       "      <td>0</td>\n",
       "      <td>0</td>\n",
       "      <td>0</td>\n",
       "      <td>0</td>\n",
       "      <td>0</td>\n",
       "      <td>0</td>\n",
       "      <td>this page was improperly moved you should go t...</td>\n",
       "      <td>29</td>\n",
       "      <td>0</td>\n",
       "    </tr>\n",
       "    <tr>\n",
       "      <th>142792</th>\n",
       "      <td>fba5a4e3ab6ad28d</td>\n",
       "      <td>DuckDuckGo svg logo \\n\\nNow that DuckDuckGo ha...</td>\n",
       "      <td>0</td>\n",
       "      <td>0</td>\n",
       "      <td>0</td>\n",
       "      <td>0</td>\n",
       "      <td>0</td>\n",
       "      <td>0</td>\n",
       "      <td>duckduckgo svg logo now that duckduckgo has a ...</td>\n",
       "      <td>19</td>\n",
       "      <td>0</td>\n",
       "    </tr>\n",
       "  </tbody>\n",
       "</table>\n",
       "</div>"
      ],
      "text/plain": [
       "                      id                                       comment_text  \\\n",
       "25869   44745ba60e82a512  \"\\n\\nThe \"\"country\"\" section in the infobox\\nI...   \n",
       "71014   be110535c0aa1691  \"Well, yes. Sorry, as a non-expert, non-German...   \n",
       "124029  975a4681ec779f6a  I use coord template with decimal parameters a...   \n",
       "9018    17ff49f1bac84fa6  Yeah, I think that's a five. Thanks for the re...   \n",
       "26228   4564596859ce8045  The Above Info \\n\\nMy friend Ketchuphed is a l...   \n",
       "69833   bacf1d1ef0dc32a6  And then the following exchange, in which I an...   \n",
       "97092   0776bc41e4e8f7f3  The article features sourced quotes from the a...   \n",
       "119821  80c55d017652bf64  I don't see it that way. As an admin, I've alr...   \n",
       "89154   ee891fa43e5bcf6e  This page was improperly moved. You should go ...   \n",
       "142792  fba5a4e3ab6ad28d  DuckDuckGo svg logo \\n\\nNow that DuckDuckGo ha...   \n",
       "\n",
       "        toxic  severe_toxic  obscene  threat  insult  identity_hate  \\\n",
       "25869       0             0        0       0       0              0   \n",
       "71014       0             0        0       0       0              0   \n",
       "124029      0             0        0       0       0              0   \n",
       "9018        0             0        0       0       0              0   \n",
       "26228       0             0        0       0       0              0   \n",
       "69833       0             0        0       0       0              0   \n",
       "97092       0             0        0       0       0              0   \n",
       "119821      0             0        0       0       0              0   \n",
       "89154       0             0        0       0       0              0   \n",
       "142792      0             0        0       0       0              0   \n",
       "\n",
       "                                             cleaned_text  word_count  \\\n",
       "25869   the country section in the infobox i think thi...          43   \n",
       "71014   well yes sorry as a non expert non german spea...         238   \n",
       "124029  i use coord template with decimal parameters a...          49   \n",
       "9018     yeah i think that is a five thanks for the reply          11   \n",
       "26228   the above info my friend ketchuphed is a littl...          33   \n",
       "69833   and then the following exchange in which i ans...          75   \n",
       "97092   the article features sourced quotes from the a...          19   \n",
       "119821  i do not see it that way as an admin i have al...          78   \n",
       "89154   this page was improperly moved you should go t...          29   \n",
       "142792  duckduckgo svg logo now that duckduckgo has a ...          19   \n",
       "\n",
       "        tag_count  \n",
       "25869           0  \n",
       "71014           0  \n",
       "124029          0  \n",
       "9018            0  \n",
       "26228           0  \n",
       "69833           0  \n",
       "97092           0  \n",
       "119821          0  \n",
       "89154           0  \n",
       "142792          0  "
      ]
     },
     "execution_count": 12,
     "metadata": {},
     "output_type": "execute_result"
    }
   ],
   "source": [
    "# Updated dataset\n",
    "train_df.sample(10)"
   ]
  },
  {
   "cell_type": "markdown",
   "id": "8d94ed79",
   "metadata": {
    "papermill": {
     "duration": 0.012411,
     "end_time": "2024-11-07T14:47:45.656842",
     "exception": false,
     "start_time": "2024-11-07T14:47:45.644431",
     "status": "completed"
    },
    "tags": []
   },
   "source": [
    "---\n",
    "# 4. Exploratory Data Analysis (EDA) - Visualization"
   ]
  },
  {
   "cell_type": "code",
   "execution_count": 13,
   "id": "2e49477a",
   "metadata": {
    "execution": {
     "iopub.execute_input": "2024-11-07T14:47:45.684104Z",
     "iopub.status.busy": "2024-11-07T14:47:45.683468Z",
     "iopub.status.idle": "2024-11-07T14:47:46.222526Z",
     "shell.execute_reply": "2024-11-07T14:47:46.221579Z"
    },
    "jupyter": {
     "source_hidden": true
    },
    "papermill": {
     "duration": 0.55589,
     "end_time": "2024-11-07T14:47:46.225373",
     "exception": false,
     "start_time": "2024-11-07T14:47:45.669483",
     "status": "completed"
    },
    "tags": []
   },
   "outputs": [
    {
     "data": {
      "image/png": "[encoded data removed]",
      "text/plain": [
       "<Figure size 800x650 with 1 Axes>"
      ]
     },
     "metadata": {},
     "output_type": "display_data"
    }
   ],
   "source": [
    "# Distribution of Comment Labels\n",
    "\n",
    "# Set a style for the plot\n",
    "sns.set(style=\"whitegrid\")\n",
    "\n",
    "# Visualize the distribution of the target labels\n",
    "plt.figure(figsize=(8, 6.5))\n",
    "barplot = sns.barplot(\n",
    "    x=train_df[['toxic', 'severe_toxic', 'obscene', 'threat', 'insult', 'identity_hate']].sum().index,\n",
    "    y=train_df[['toxic', 'severe_toxic', 'obscene', 'threat', 'insult', 'identity_hate']].sum().values,\n",
    "    palette='viridis', edgecolor='black'\n",
    ")\n",
    "\n",
    "# Add counts on top of each bar\n",
    "for p in barplot.patches:\n",
    "    barplot.annotate(f'{int(p.get_height())}', \n",
    "                     (p.get_x() + p.get_width() / 2., p.get_height()), \n",
    "                     ha='center', va='bottom', \n",
    "                     fontsize=12, color='black', \n",
    "                     xytext=(0, 5),  # Adjusts the position of the text\n",
    "                     textcoords='offset points')\n",
    "\n",
    "# Enhance title and labels\n",
    "plt.title(\"Distribution of Comments Across Labels\", fontsize=16, fontweight='bold')\n",
    "plt.ylabel(\"Count\", fontsize=14)\n",
    "plt.xlabel(\"Categories\", fontsize=14)\n",
    "plt.xticks(fontsize=12)\n",
    "plt.yticks(fontsize=12)\n",
    "plt.grid(axis='y', linestyle='--', alpha=0.7)\n",
    "plt.tight_layout()\n",
    "plt.show()"
   ]
  },
  {
   "cell_type": "code",
   "execution_count": 14,
   "id": "e8bb300b",
   "metadata": {
    "execution": {
     "iopub.execute_input": "2024-11-07T14:47:46.255116Z",
     "iopub.status.busy": "2024-11-07T14:47:46.254514Z",
     "iopub.status.idle": "2024-11-07T14:47:46.646439Z",
     "shell.execute_reply": "2024-11-07T14:47:46.645427Z"
    },
    "jupyter": {
     "source_hidden": true
    },
    "papermill": {
     "duration": 0.409483,
     "end_time": "2024-11-07T14:47:46.648674",
     "exception": false,
     "start_time": "2024-11-07T14:47:46.239191",
     "status": "completed"
    },
    "tags": []
   },
   "outputs": [
    {
     "data": {
      "image/png": "[encoded data removed]",
      "text/plain": [
       "<Figure size 800x600 with 1 Axes>"
      ]
     },
     "metadata": {},
     "output_type": "display_data"
    }
   ],
   "source": [
    "# Value counts for how many comments have 0, 1, 2, etc. tags\n",
    "rowsums = train_df['tag_count'].value_counts().sort_index()\n",
    "\n",
    "# Plot the results\n",
    "plt.figure(figsize=(8, 6))\n",
    "\n",
    "# Use a distinct color palette, e.g., 'Blues' for a pleasant look\n",
    "ax = sns.barplot(x=rowsums.index, y=rowsums.values, palette='viridis')\n",
    "\n",
    "# Set titles and labels\n",
    "plt.title(\"Distribution of Cyberbullying Tags in Comments\", fontsize=16)\n",
    "plt.ylabel('Number of Comments', fontsize=12)\n",
    "plt.xlabel('Number of Tags Assigned', fontsize=12)\n",
    "# Improve x-axis labels for clarity\n",
    "ax.set_xticklabels([f'{x} Tags' for x in rowsums.index])\n",
    "\n",
    "# Step 4: Add percentages on top of bars for better context\n",
    "total_comments = train_df.shape[0]\n",
    "for rect, label in zip(ax.patches, rowsums.values):\n",
    "    height = rect.get_height()\n",
    "    percentage = (height / total_comments) * 100\n",
    "    ax.text(rect.get_x() + rect.get_width()/2, height + 5, f'{label} ({percentage:.1f}%)', \n",
    "            ha='center', va='bottom', fontsize=10)\n",
    "\n",
    "plt.show()"
   ]
  },
  {
   "cell_type": "code",
   "execution_count": 15,
   "id": "ab40506a",
   "metadata": {
    "execution": {
     "iopub.execute_input": "2024-11-07T14:47:46.680915Z",
     "iopub.status.busy": "2024-11-07T14:47:46.680037Z",
     "iopub.status.idle": "2024-11-07T14:47:47.349164Z",
     "shell.execute_reply": "2024-11-07T14:47:47.348194Z"
    },
    "jupyter": {
     "source_hidden": true
    },
    "papermill": {
     "duration": 0.688036,
     "end_time": "2024-11-07T14:47:47.352015",
     "exception": false,
     "start_time": "2024-11-07T14:47:46.663979",
     "status": "completed"
    },
    "tags": []
   },
   "outputs": [
    {
     "data": {
      "image/png": "[encoded data removed]",
      "text/plain": [
       "<Figure size 800x600 with 2 Axes>"
      ]
     },
     "metadata": {},
     "output_type": "display_data"
    }
   ],
   "source": [
    "# Correlation\n",
    "plt.figure(figsize=(8, 6))\n",
    "correlation_matrix = train_df[['toxic', 'severe_toxic', 'obscene', 'threat', 'insult', 'identity_hate']].corr()\n",
    "heatmap = sns.heatmap(correlation_matrix, annot=True, cmap=\"coolwarm\", fmt=\".2f\", \n",
    "                      cbar_kws={\"shrink\": .8, 'label': 'Correlation Coefficient'}, \n",
    "                      linewidths=.5, linecolor='black')\n",
    "\n",
    "# Enhance title and labels\n",
    "plt.title(\"Correlation Matrix of Cyberbullying Categories\", fontsize=16, fontweight='bold')\n",
    "plt.xticks(fontsize=12)\n",
    "plt.yticks(fontsize=12)\n",
    "plt.tight_layout()\n",
    "plt.show()"
   ]
  },
  {
   "cell_type": "code",
   "execution_count": 16,
   "id": "29692801",
   "metadata": {
    "execution": {
     "iopub.execute_input": "2024-11-07T14:47:47.385610Z",
     "iopub.status.busy": "2024-11-07T14:47:47.385217Z",
     "iopub.status.idle": "2024-11-07T14:47:47.869727Z",
     "shell.execute_reply": "2024-11-07T14:47:47.868771Z"
    },
    "jupyter": {
     "source_hidden": true
    },
    "papermill": {
     "duration": 0.503918,
     "end_time": "2024-11-07T14:47:47.871996",
     "exception": false,
     "start_time": "2024-11-07T14:47:47.368078",
     "status": "completed"
    },
    "tags": []
   },
   "outputs": [
    {
     "data": {
      "image/png": "[encoded data removed]",
      "text/plain": [
       "<Figure size 800x600 with 2 Axes>"
      ]
     },
     "metadata": {},
     "output_type": "display_data"
    }
   ],
   "source": [
    "category_columns = ['toxic', 'severe_toxic', 'obscene', 'threat', 'insult', 'identity_hate']\n",
    "\n",
    "# Create a co-occurrence matrix by transposing and dot product\n",
    "co_occurrence_matrix = train_df[category_columns].T.dot(train_df[category_columns])\n",
    "\n",
    "# Optional: Remove diagonal (self-correlation) for a cleaner plot\n",
    "np.fill_diagonal(co_occurrence_matrix.values, 0)\n",
    "\n",
    "# Plot the heatmap\n",
    "plt.figure(figsize=(8, 6))\n",
    "sns.heatmap(co_occurrence_matrix, annot=True, cmap=\"YlGnBu\", fmt=\"d\", cbar=True)\n",
    "plt.title(\"Category Co-occurrence Heatmap\")\n",
    "plt.show()"
   ]
  },
  {
   "cell_type": "markdown",
   "id": "6874bfbf",
   "metadata": {
    "papermill": {
     "duration": 0.017028,
     "end_time": "2024-11-07T14:47:47.908084",
     "exception": false,
     "start_time": "2024-11-07T14:47:47.891056",
     "status": "completed"
    },
    "tags": []
   },
   "source": [
    "---\n",
    "# 5. Preparing Data for Model Training"
   ]
  },
  {
   "cell_type": "code",
   "execution_count": 17,
   "id": "21eb3f68",
   "metadata": {
    "execution": {
     "iopub.execute_input": "2024-11-07T14:47:47.945448Z",
     "iopub.status.busy": "2024-11-07T14:47:47.944535Z",
     "iopub.status.idle": "2024-11-07T14:47:47.953361Z",
     "shell.execute_reply": "2024-11-07T14:47:47.952378Z"
    },
    "jupyter": {
     "source_hidden": true
    },
    "papermill": {
     "duration": 0.029882,
     "end_time": "2024-11-07T14:47:47.955600",
     "exception": false,
     "start_time": "2024-11-07T14:47:47.925718",
     "status": "completed"
    },
    "tags": []
   },
   "outputs": [],
   "source": [
    "# Define feature and target variables\n",
    "X = train_df['cleaned_text']\n",
    "y = train_df[['toxic', 'severe_toxic', 'obscene', 'insult', 'threat', 'identity_hate']]"
   ]
  },
  {
   "cell_type": "code",
   "execution_count": 18,
   "id": "c53141b1",
   "metadata": {
    "execution": {
     "iopub.execute_input": "2024-11-07T14:47:47.993532Z",
     "iopub.status.busy": "2024-11-07T14:47:47.992828Z",
     "iopub.status.idle": "2024-11-07T14:47:48.022758Z",
     "shell.execute_reply": "2024-11-07T14:47:48.021931Z"
    },
    "jupyter": {
     "source_hidden": true
    },
    "papermill": {
     "duration": 0.052368,
     "end_time": "2024-11-07T14:47:48.025030",
     "exception": false,
     "start_time": "2024-11-07T14:47:47.972662",
     "status": "completed"
    },
    "tags": []
   },
   "outputs": [],
   "source": [
    "# Split the data into training and test sets\n",
    "X_train, X_test, y_train, y_test = train_test_split(X, y, test_size=0.2, random_state=42)"
   ]
  },
  {
   "cell_type": "code",
   "execution_count": 19,
   "id": "d64a7cf8",
   "metadata": {
    "execution": {
     "iopub.execute_input": "2024-11-07T14:47:48.061854Z",
     "iopub.status.busy": "2024-11-07T14:47:48.061150Z",
     "iopub.status.idle": "2024-11-07T14:47:57.672880Z",
     "shell.execute_reply": "2024-11-07T14:47:57.671815Z"
    },
    "jupyter": {
     "source_hidden": true
    },
    "papermill": {
     "duration": 9.63273,
     "end_time": "2024-11-07T14:47:57.675332",
     "exception": false,
     "start_time": "2024-11-07T14:47:48.042602",
     "status": "completed"
    },
    "tags": []
   },
   "outputs": [],
   "source": [
    "# Vectorize the text data using TF-IDF\n",
    "tfidf_vect = TfidfVectorizer(max_features=15000)\n",
    "X_train_tfidf = tfidf_vect.fit_transform(X_train)\n",
    "X_test_tfidf = tfidf_vect.transform(X_test)"
   ]
  },
  {
   "cell_type": "markdown",
   "id": "9cef6926",
   "metadata": {
    "papermill": {
     "duration": 0.016383,
     "end_time": "2024-11-07T14:47:57.708571",
     "exception": false,
     "start_time": "2024-11-07T14:47:57.692188",
     "status": "completed"
    },
    "tags": []
   },
   "source": [
    "---\n",
    "# 6. Model Training - OneVsRest Classifier with Logistic Regression"
   ]
  },
  {
   "cell_type": "code",
   "execution_count": 20,
   "id": "442efaa3",
   "metadata": {
    "execution": {
     "iopub.execute_input": "2024-11-07T14:47:57.744171Z",
     "iopub.status.busy": "2024-11-07T14:47:57.743566Z",
     "iopub.status.idle": "2024-11-07T14:48:47.388454Z",
     "shell.execute_reply": "2024-11-07T14:48:47.387484Z"
    },
    "jupyter": {
     "source_hidden": true
    },
    "papermill": {
     "duration": 49.731802,
     "end_time": "2024-11-07T14:48:47.457481",
     "exception": false,
     "start_time": "2024-11-07T14:47:57.725679",
     "status": "completed"
    },
    "tags": []
   },
   "outputs": [
    {
     "data": {
      "text/html": [
       "<style>#sk-container-id-1 {color: black;background-color: white;}#sk-container-id-1 pre{padding: 0;}#sk-container-id-1 div.sk-toggleable {background-color: white;}#sk-container-id-1 label.sk-toggleable__label {cursor: pointer;display: block;width: 100%;margin-bottom: 0;padding: 0.3em;box-sizing: border-box;text-align: center;}#sk-container-id-1 label.sk-toggleable__label-arrow:before {content: \"▸\";float: left;margin-right: 0.25em;color: #696969;}#sk-container-id-1 label.sk-toggleable__label-arrow:hover:before {color: black;}#sk-container-id-1 div.sk-estimator:hover label.sk-toggleable__label-arrow:before {color: black;}#sk-container-id-1 div.sk-toggleable__content {max-height: 0;max-width: 0;overflow: hidden;text-align: left;background-color: #f0f8ff;}#sk-container-id-1 div.sk-toggleable__content pre {margin: 0.2em;color: black;border-radius: 0.25em;background-color: #f0f8ff;}#sk-container-id-1 input.sk-toggleable__control:checked~div.sk-toggleable__content {max-height: 200px;max-width: 100%;overflow: auto;}#sk-container-id-1 input.sk-toggleable__control:checked~label.sk-toggleable__label-arrow:before {content: \"▾\";}#sk-container-id-1 div.sk-estimator input.sk-toggleable__control:checked~label.sk-toggleable__label {background-color: #d4ebff;}#sk-container-id-1 div.sk-label input.sk-toggleable__control:checked~label.sk-toggleable__label {background-color: #d4ebff;}#sk-container-id-1 input.sk-hidden--visually {border: 0;clip: rect(1px 1px 1px 1px);clip: rect(1px, 1px, 1px, 1px);height: 1px;margin: -1px;overflow: hidden;padding: 0;position: absolute;width: 1px;}#sk-container-id-1 div.sk-estimator {font-family: monospace;background-color: #f0f8ff;border: 1px dotted black;border-radius: 0.25em;box-sizing: border-box;margin-bottom: 0.5em;}#sk-container-id-1 div.sk-estimator:hover {background-color: #d4ebff;}#sk-container-id-1 div.sk-parallel-item::after {content: \"\";width: 100%;border-bottom: 1px solid gray;flex-grow: 1;}#sk-container-id-1 div.sk-label:hover label.sk-toggleable__label {background-color: #d4ebff;}#sk-container-id-1 div.sk-serial::before {content: \"\";position: absolute;border-left: 1px solid gray;box-sizing: border-box;top: 0;bottom: 0;left: 50%;z-index: 0;}#sk-container-id-1 div.sk-serial {display: flex;flex-direction: column;align-items: center;background-color: white;padding-right: 0.2em;padding-left: 0.2em;position: relative;}#sk-container-id-1 div.sk-item {position: relative;z-index: 1;}#sk-container-id-1 div.sk-parallel {display: flex;align-items: stretch;justify-content: center;background-color: white;position: relative;}#sk-container-id-1 div.sk-item::before, #sk-container-id-1 div.sk-parallel-item::before {content: \"\";position: absolute;border-left: 1px solid gray;box-sizing: border-box;top: 0;bottom: 0;left: 50%;z-index: -1;}#sk-container-id-1 div.sk-parallel-item {display: flex;flex-direction: column;z-index: 1;position: relative;background-color: white;}#sk-container-id-1 div.sk-parallel-item:first-child::after {align-self: flex-end;width: 50%;}#sk-container-id-1 div.sk-parallel-item:last-child::after {align-self: flex-start;width: 50%;}#sk-container-id-1 div.sk-parallel-item:only-child::after {width: 0;}#sk-container-id-1 div.sk-dashed-wrapped {border: 1px dashed gray;margin: 0 0.4em 0.5em 0.4em;box-sizing: border-box;padding-bottom: 0.4em;background-color: white;}#sk-container-id-1 div.sk-label label {font-family: monospace;font-weight: bold;display: inline-block;line-height: 1.2em;}#sk-container-id-1 div.sk-label-container {text-align: center;}#sk-container-id-1 div.sk-container {/* jupyter's `normalize.less` sets `[hidden] { display: none; }` but bootstrap.min.css set `[hidden] { display: none !important; }` so we also need the `!important` here to be able to override the default hidden behavior on the sphinx rendered scikit-learn.org. See: https://github.com/scikit-learn/scikit-learn/issues/21755 */display: inline-block !important;position: relative;}#sk-container-id-1 div.sk-text-repr-fallback {display: none;}</style><div id=\"sk-container-id-1\" class=\"sk-top-container\"><div class=\"sk-text-repr-fallback\"><pre>OneVsRestClassifier(estimator=LogisticRegression(C=1, max_iter=1000))</pre><b>In a Jupyter environment, please rerun this cell to show the HTML representation or trust the notebook. <br />On GitHub, the HTML representation is unable to render, please try loading this page with nbviewer.org.</b></div><div class=\"sk-container\" hidden><div class=\"sk-item sk-dashed-wrapped\"><div class=\"sk-label-container\"><div class=\"sk-label sk-toggleable\"><input class=\"sk-toggleable__control sk-hidden--visually\" id=\"sk-estimator-id-1\" type=\"checkbox\" ><label for=\"sk-estimator-id-1\" class=\"sk-toggleable__label sk-toggleable__label-arrow\">OneVsRestClassifier</label><div class=\"sk-toggleable__content\"><pre>OneVsRestClassifier(estimator=LogisticRegression(C=1, max_iter=1000))</pre></div></div></div><div class=\"sk-parallel\"><div class=\"sk-parallel-item\"><div class=\"sk-item\"><div class=\"sk-label-container\"><div class=\"sk-label sk-toggleable\"><input class=\"sk-toggleable__control sk-hidden--visually\" id=\"sk-estimator-id-2\" type=\"checkbox\" ><label for=\"sk-estimator-id-2\" class=\"sk-toggleable__label sk-toggleable__label-arrow\">estimator: LogisticRegression</label><div class=\"sk-toggleable__content\"><pre>LogisticRegression(C=1, max_iter=1000)</pre></div></div></div><div class=\"sk-serial\"><div class=\"sk-item\"><div class=\"sk-estimator sk-toggleable\"><input class=\"sk-toggleable__control sk-hidden--visually\" id=\"sk-estimator-id-3\" type=\"checkbox\" ><label for=\"sk-estimator-id-3\" class=\"sk-toggleable__label sk-toggleable__label-arrow\">LogisticRegression</label><div class=\"sk-toggleable__content\"><pre>LogisticRegression(C=1, max_iter=1000)</pre></div></div></div></div></div></div></div></div></div></div>"
      ],
      "text/plain": [
       "OneVsRestClassifier(estimator=LogisticRegression(C=1, max_iter=1000))"
      ]
     },
     "execution_count": 20,
     "metadata": {},
     "output_type": "execute_result"
    }
   ],
   "source": [
    "# Initialize the OneVsRest classifier with Logistic Regression\n",
    "model = OneVsRestClassifier(LogisticRegression(C=1, max_iter=1000))\n",
    "\n",
    "# Train the model\n",
    "model.fit(X_train_tfidf, y_train)"
   ]
  },
  {
   "cell_type": "markdown",
   "id": "44684d76",
   "metadata": {
    "papermill": {
     "duration": 0.018936,
     "end_time": "2024-11-07T14:48:47.515456",
     "exception": false,
     "start_time": "2024-11-07T14:48:47.496520",
     "status": "completed"
    },
    "tags": []
   },
   "source": [
    "---\n",
    "# 7. Model Evaluation"
   ]
  },
  {
   "cell_type": "code",
   "execution_count": 21,
   "id": "900647d2",
   "metadata": {
    "execution": {
     "iopub.execute_input": "2024-11-07T14:48:47.550980Z",
     "iopub.status.busy": "2024-11-07T14:48:47.550250Z",
     "iopub.status.idle": "2024-11-07T14:48:47.569048Z",
     "shell.execute_reply": "2024-11-07T14:48:47.568288Z"
    },
    "jupyter": {
     "source_hidden": true
    },
    "papermill": {
     "duration": 0.038934,
     "end_time": "2024-11-07T14:48:47.571178",
     "exception": false,
     "start_time": "2024-11-07T14:48:47.532244",
     "status": "completed"
    },
    "tags": []
   },
   "outputs": [],
   "source": [
    "# Predict on the test set for all labels\n",
    "y_pred = model.predict(X_test_tfidf)"
   ]
  },
  {
   "cell_type": "code",
   "execution_count": 22,
   "id": "aee558b6",
   "metadata": {
    "execution": {
     "iopub.execute_input": "2024-11-07T14:48:47.606415Z",
     "iopub.status.busy": "2024-11-07T14:48:47.606050Z",
     "iopub.status.idle": "2024-11-07T14:48:48.081838Z",
     "shell.execute_reply": "2024-11-07T14:48:48.080710Z"
    },
    "jupyter": {
     "source_hidden": true
    },
    "papermill": {
     "duration": 0.495514,
     "end_time": "2024-11-07T14:48:48.083972",
     "exception": false,
     "start_time": "2024-11-07T14:48:47.588458",
     "status": "completed"
    },
    "tags": []
   },
   "outputs": [
    {
     "name": "stdout",
     "output_type": "stream",
     "text": [
      "Classification report for toxic:\n",
      "              precision    recall  f1-score   support\n",
      "\n",
      "           0       0.96      0.99      0.98     27530\n",
      "           1       0.93      0.64      0.76      3013\n",
      "\n",
      "    accuracy                           0.96     30543\n",
      "   macro avg       0.95      0.82      0.87     30543\n",
      "weighted avg       0.96      0.96      0.96     30543\n",
      "\n",
      "\n",
      "--------------------------------------------------\n",
      "\n",
      "Classification report for severe_toxic:\n",
      "              precision    recall  f1-score   support\n",
      "\n",
      "           0       0.99      1.00      1.00     30248\n",
      "           1       0.56      0.25      0.34       295\n",
      "\n",
      "    accuracy                           0.99     30543\n",
      "   macro avg       0.77      0.62      0.67     30543\n",
      "weighted avg       0.99      0.99      0.99     30543\n",
      "\n",
      "\n",
      "--------------------------------------------------\n",
      "\n",
      "Classification report for obscene:\n",
      "              precision    recall  f1-score   support\n",
      "\n",
      "           0       0.98      1.00      0.99     28884\n",
      "           1       0.91      0.65      0.76      1659\n",
      "\n",
      "    accuracy                           0.98     30543\n",
      "   macro avg       0.95      0.82      0.87     30543\n",
      "weighted avg       0.98      0.98      0.98     30543\n",
      "\n",
      "\n",
      "--------------------------------------------------\n",
      "\n",
      "Classification report for insult:\n",
      "              precision    recall  f1-score   support\n",
      "\n",
      "           0       0.98      0.99      0.99     29025\n",
      "           1       0.84      0.55      0.66      1518\n",
      "\n",
      "    accuracy                           0.97     30543\n",
      "   macro avg       0.91      0.77      0.82     30543\n",
      "weighted avg       0.97      0.97      0.97     30543\n",
      "\n",
      "\n",
      "--------------------------------------------------\n",
      "\n",
      "Classification report for threat:\n",
      "              precision    recall  f1-score   support\n",
      "\n",
      "           0       1.00      1.00      1.00     30464\n",
      "           1       0.62      0.16      0.26        79\n",
      "\n",
      "    accuracy                           1.00     30543\n",
      "   macro avg       0.81      0.58      0.63     30543\n",
      "weighted avg       1.00      1.00      1.00     30543\n",
      "\n",
      "\n",
      "--------------------------------------------------\n",
      "\n",
      "Classification report for identity_hate:\n",
      "              precision    recall  f1-score   support\n",
      "\n",
      "           0       0.99      1.00      1.00     30252\n",
      "           1       0.68      0.17      0.27       291\n",
      "\n",
      "    accuracy                           0.99     30543\n",
      "   macro avg       0.83      0.59      0.63     30543\n",
      "weighted avg       0.99      0.99      0.99     30543\n",
      "\n",
      "\n",
      "--------------------------------------------------\n",
      "\n",
      "+---------------+------------+\n",
      "| Label         |   Accuracy |\n",
      "+===============+============+\n",
      "| toxic         |     0.9595 |\n",
      "+---------------+------------+\n",
      "| severe_toxic  |     0.9908 |\n",
      "+---------------+------------+\n",
      "| obscene       |     0.9773 |\n",
      "+---------------+------------+\n",
      "| insult        |     0.9723 |\n",
      "+---------------+------------+\n",
      "| threat        |     0.9976 |\n",
      "+---------------+------------+\n",
      "| identity_hate |     0.9913 |\n",
      "+---------------+------------+\n"
     ]
    }
   ],
   "source": [
    "# Evaluate the model for each label\n",
    "results = []\n",
    "for idx, label in enumerate(y.columns):\n",
    "    # Calculate and print accuracy for each label\n",
    "    accuracy = accuracy_score(y_test[label], y_pred[:, idx])\n",
    "    results.append({\"Label\": label, \"Accuracy\": f\"{accuracy:.4f}\"})\n",
    "    \n",
    "    # Print classification report for each label\n",
    "    print(f\"Classification report for {label}:\")\n",
    "    print(classification_report(y_test[label], y_pred[:, idx]))\n",
    "    print(\"\\n\" + \"-\"*50 + \"\\n\")\n",
    "\n",
    "# Display accuracy results in a table format with borders\n",
    "results_df = pd.DataFrame(results)\n",
    "print(results_df.to_markdown(index=False, tablefmt=\"grid\"))"
   ]
  },
  {
   "cell_type": "code",
   "execution_count": 23,
   "id": "0a61eb95",
   "metadata": {
    "execution": {
     "iopub.execute_input": "2024-11-07T14:48:48.120222Z",
     "iopub.status.busy": "2024-11-07T14:48:48.119640Z",
     "iopub.status.idle": "2024-11-07T14:48:48.144509Z",
     "shell.execute_reply": "2024-11-07T14:48:48.143535Z"
    },
    "jupyter": {
     "source_hidden": true
    },
    "papermill": {
     "duration": 0.044647,
     "end_time": "2024-11-07T14:48:48.146584",
     "exception": false,
     "start_time": "2024-11-07T14:48:48.101937",
     "status": "completed"
    },
    "tags": []
   },
   "outputs": [
    {
     "name": "stdout",
     "output_type": "stream",
     "text": [
      "Overall Accuracy (Exact Match Ratio): 92.02%\n"
     ]
    }
   ],
   "source": [
    "# Calculate the accuracy of the model by comparing the true labels (y_test) with the predicted labels (y_pred)\n",
    "accuracy = accuracy_score(y_test, y_pred)\n",
    "print(f'Overall Accuracy (Exact Match Ratio): {accuracy * 100:.2f}%')"
   ]
  },
  {
   "cell_type": "markdown",
   "id": "06d71a0e",
   "metadata": {
    "papermill": {
     "duration": 0.016621,
     "end_time": "2024-11-07T14:48:48.180348",
     "exception": false,
     "start_time": "2024-11-07T14:48:48.163727",
     "status": "completed"
    },
    "tags": []
   },
   "source": [
    "---\n",
    "# 8. Function for New Text Prediction"
   ]
  },
  {
   "cell_type": "code",
   "execution_count": 24,
   "id": "56ac5605",
   "metadata": {
    "execution": {
     "iopub.execute_input": "2024-11-07T14:48:48.215707Z",
     "iopub.status.busy": "2024-11-07T14:48:48.214978Z",
     "iopub.status.idle": "2024-11-07T14:48:48.221757Z",
     "shell.execute_reply": "2024-11-07T14:48:48.220933Z"
    },
    "jupyter": {
     "source_hidden": true
    },
    "papermill": {
     "duration": 0.026697,
     "end_time": "2024-11-07T14:48:48.223774",
     "exception": false,
     "start_time": "2024-11-07T14:48:48.197077",
     "status": "completed"
    },
    "tags": []
   },
   "outputs": [],
   "source": [
    "# Funtion predict_text for new predictions\n",
    "def predict_text(text):\n",
    "    # Clean and preprocess the text\n",
    "    clean_text_input = clean_text(text)\n",
    "    text_tfidf = tfidf_vect.transform([clean_text_input])\n",
    "    \n",
    "    # Get prediction probabilities for each category\n",
    "    prediction_probs = model.predict_proba(text_tfidf)\n",
    "\n",
    "    # Initialize a list to collect bullying categories\n",
    "    bullying_categories = []\n",
    "\n",
    "    # Check the probability for each category\n",
    "    for i, label in enumerate(y.columns):\n",
    "        if prediction_probs[0][i] >= 0.4:  # Using the probability threshold\n",
    "            bullying_categories.append(label)\n",
    "\n",
    "    # Determine output based on predictions\n",
    "    if bullying_categories:\n",
    "        result_message = f\"The input text is CYBERBULLYING in the following categories: {', '.join(bullying_categories)}.\"\n",
    "    else:\n",
    "        result_message = \"The input text is NOT cyberbullying.\"\n",
    "\n",
    "    return clean_text_input, result_message"
   ]
  },
  {
   "cell_type": "markdown",
   "id": "f5b15595",
   "metadata": {
    "papermill": {
     "duration": 0.016867,
     "end_time": "2024-11-07T14:48:48.257264",
     "exception": false,
     "start_time": "2024-11-07T14:48:48.240397",
     "status": "completed"
    },
    "tags": []
   },
   "source": [
    "---\n",
    "# 9. Prediction on Training Examples"
   ]
  },
  {
   "cell_type": "code",
   "execution_count": 25,
   "id": "2dfe09bf",
   "metadata": {
    "execution": {
     "iopub.execute_input": "2024-11-07T14:48:48.292607Z",
     "iopub.status.busy": "2024-11-07T14:48:48.291666Z",
     "iopub.status.idle": "2024-11-07T14:48:48.338527Z",
     "shell.execute_reply": "2024-11-07T14:48:48.337372Z"
    },
    "papermill": {
     "duration": 0.066977,
     "end_time": "2024-11-07T14:48:48.340721",
     "exception": false,
     "start_time": "2024-11-07T14:48:48.273744",
     "status": "completed"
    },
    "tags": []
   },
   "outputs": [
    {
     "name": "stdout",
     "output_type": "stream",
     "text": [
      "Cleaned Text: stupid peace of shit stop deleting my stuff asshole go die and fall in a hole go to hell\n",
      "\n",
      "Prediction Result: The input text is CYBERBULLYING in the following categories: toxic, severe_toxic, obscene, insult.\n",
      "\n"
     ]
    },
    {
     "data": {
      "text/html": [
       "<div>\n",
       "<style scoped>\n",
       "    .dataframe tbody tr th:only-of-type {\n",
       "        vertical-align: middle;\n",
       "    }\n",
       "\n",
       "    .dataframe tbody tr th {\n",
       "        vertical-align: top;\n",
       "    }\n",
       "\n",
       "    .dataframe thead th {\n",
       "        text-align: right;\n",
       "    }\n",
       "</style>\n",
       "<table border=\"1\" class=\"dataframe\">\n",
       "  <thead>\n",
       "    <tr style=\"text-align: right;\">\n",
       "      <th></th>\n",
       "      <th>id</th>\n",
       "      <th>comment_text</th>\n",
       "      <th>toxic</th>\n",
       "      <th>severe_toxic</th>\n",
       "      <th>obscene</th>\n",
       "      <th>threat</th>\n",
       "      <th>insult</th>\n",
       "      <th>identity_hate</th>\n",
       "      <th>cleaned_text</th>\n",
       "      <th>word_count</th>\n",
       "      <th>tag_count</th>\n",
       "    </tr>\n",
       "  </thead>\n",
       "  <tbody>\n",
       "    <tr>\n",
       "      <th>55</th>\n",
       "      <td>0020e7119b96eeeb</td>\n",
       "      <td>Stupid peace of shit stop deleting my stuff as...</td>\n",
       "      <td>1</td>\n",
       "      <td>1</td>\n",
       "      <td>1</td>\n",
       "      <td>0</td>\n",
       "      <td>1</td>\n",
       "      <td>0</td>\n",
       "      <td>stupid peace of shit stop deleting my stuff as...</td>\n",
       "      <td>19</td>\n",
       "      <td>4</td>\n",
       "    </tr>\n",
       "  </tbody>\n",
       "</table>\n",
       "</div>"
      ],
      "text/plain": [
       "                  id                                       comment_text  \\\n",
       "55  0020e7119b96eeeb  Stupid peace of shit stop deleting my stuff as...   \n",
       "\n",
       "    toxic  severe_toxic  obscene  threat  insult  identity_hate  \\\n",
       "55      1             1        1       0       1              0   \n",
       "\n",
       "                                         cleaned_text  word_count  tag_count  \n",
       "55  stupid peace of shit stop deleting my stuff as...          19          4  "
      ]
     },
     "metadata": {},
     "output_type": "display_data"
    }
   ],
   "source": [
    "# Example of predicting on a new text input\n",
    "input_text = \"Stupid peace of shit stop deleting my stuff asshole go die and fall in a hole go to hell!\"\n",
    "\n",
    "cleaned_text, prediction_result = predict_text(input_text)\n",
    "\n",
    "# Displaying the cleaned text and prediction result\n",
    "print(\"Cleaned Text:\", cleaned_text)\n",
    "print(\"\\nPrediction Result:\", prediction_result)\n",
    "print()\n",
    "display(train_df.loc[train_df['comment_text'] == input_text])"
   ]
  },
  {
   "cell_type": "code",
   "execution_count": 26,
   "id": "726662b7",
   "metadata": {
    "execution": {
     "iopub.execute_input": "2024-11-07T14:48:48.377462Z",
     "iopub.status.busy": "2024-11-07T14:48:48.376712Z",
     "iopub.status.idle": "2024-11-07T14:48:48.421797Z",
     "shell.execute_reply": "2024-11-07T14:48:48.420934Z"
    },
    "papermill": {
     "duration": 0.064925,
     "end_time": "2024-11-07T14:48:48.423758",
     "exception": false,
     "start_time": "2024-11-07T14:48:48.358833",
     "status": "completed"
    },
    "tags": []
   },
   "outputs": [
    {
     "name": "stdout",
     "output_type": "stream",
     "text": [
      "Cleaned Text: why are not you banned you fuck mexican gay prick\n",
      "\n",
      "Prediction Result: The input text is CYBERBULLYING in the following categories: toxic, obscene, insult.\n",
      "\n"
     ]
    },
    {
     "data": {
      "text/html": [
       "<div>\n",
       "<style scoped>\n",
       "    .dataframe tbody tr th:only-of-type {\n",
       "        vertical-align: middle;\n",
       "    }\n",
       "\n",
       "    .dataframe tbody tr th {\n",
       "        vertical-align: top;\n",
       "    }\n",
       "\n",
       "    .dataframe thead th {\n",
       "        text-align: right;\n",
       "    }\n",
       "</style>\n",
       "<table border=\"1\" class=\"dataframe\">\n",
       "  <thead>\n",
       "    <tr style=\"text-align: right;\">\n",
       "      <th></th>\n",
       "      <th>id</th>\n",
       "      <th>comment_text</th>\n",
       "      <th>toxic</th>\n",
       "      <th>severe_toxic</th>\n",
       "      <th>obscene</th>\n",
       "      <th>threat</th>\n",
       "      <th>insult</th>\n",
       "      <th>identity_hate</th>\n",
       "      <th>cleaned_text</th>\n",
       "      <th>word_count</th>\n",
       "      <th>tag_count</th>\n",
       "    </tr>\n",
       "  </thead>\n",
       "  <tbody>\n",
       "    <tr>\n",
       "      <th>31113</th>\n",
       "      <td>52a52d41ba4b6252</td>\n",
       "      <td>Why aren't you banned you fucking Mexican gay ...</td>\n",
       "      <td>1</td>\n",
       "      <td>1</td>\n",
       "      <td>1</td>\n",
       "      <td>0</td>\n",
       "      <td>1</td>\n",
       "      <td>0</td>\n",
       "      <td>why are not you banned you fuck mexican gay prick</td>\n",
       "      <td>10</td>\n",
       "      <td>4</td>\n",
       "    </tr>\n",
       "  </tbody>\n",
       "</table>\n",
       "</div>"
      ],
      "text/plain": [
       "                     id                                       comment_text  \\\n",
       "31113  52a52d41ba4b6252  Why aren't you banned you fucking Mexican gay ...   \n",
       "\n",
       "       toxic  severe_toxic  obscene  threat  insult  identity_hate  \\\n",
       "31113      1             1        1       0       1              0   \n",
       "\n",
       "                                            cleaned_text  word_count  \\\n",
       "31113  why are not you banned you fuck mexican gay prick          10   \n",
       "\n",
       "       tag_count  \n",
       "31113          4  "
      ]
     },
     "metadata": {},
     "output_type": "display_data"
    }
   ],
   "source": [
    "# Example of predicting on a new text input\n",
    "input_text = \"Why aren't you banned you fucking Mexican gay prick.\"\n",
    "\n",
    "cleaned_text, prediction_result = predict_text(input_text)\n",
    "\n",
    "# Displaying the cleaned text and prediction result\n",
    "print(\"Cleaned Text:\", cleaned_text)\n",
    "print(\"\\nPrediction Result:\", prediction_result)\n",
    "print()\n",
    "display(train_df.loc[train_df['comment_text'] == input_text])"
   ]
  },
  {
   "cell_type": "code",
   "execution_count": 27,
   "id": "7773e959",
   "metadata": {
    "execution": {
     "iopub.execute_input": "2024-11-07T14:48:48.468578Z",
     "iopub.status.busy": "2024-11-07T14:48:48.468204Z",
     "iopub.status.idle": "2024-11-07T14:48:48.513441Z",
     "shell.execute_reply": "2024-11-07T14:48:48.512432Z"
    },
    "papermill": {
     "duration": 0.073093,
     "end_time": "2024-11-07T14:48:48.515493",
     "exception": false,
     "start_time": "2024-11-07T14:48:48.442400",
     "status": "completed"
    },
    "tags": []
   },
   "outputs": [
    {
     "name": "stdout",
     "output_type": "stream",
     "text": [
      "Cleaned Text: pretty much everyone from warren county surrounding regions was born at glens falls hospital myself included however i am not sure this qualifies anyone as being a glens falls native rachel ray is i believe actually from the town of lake luzerne\n",
      "\n",
      "Prediction Result: The input text is NOT cyberbullying.\n",
      "\n"
     ]
    },
    {
     "data": {
      "text/html": [
       "<div>\n",
       "<style scoped>\n",
       "    .dataframe tbody tr th:only-of-type {\n",
       "        vertical-align: middle;\n",
       "    }\n",
       "\n",
       "    .dataframe tbody tr th {\n",
       "        vertical-align: top;\n",
       "    }\n",
       "\n",
       "    .dataframe thead th {\n",
       "        text-align: right;\n",
       "    }\n",
       "</style>\n",
       "<table border=\"1\" class=\"dataframe\">\n",
       "  <thead>\n",
       "    <tr style=\"text-align: right;\">\n",
       "      <th></th>\n",
       "      <th>id</th>\n",
       "      <th>comment_text</th>\n",
       "      <th>toxic</th>\n",
       "      <th>severe_toxic</th>\n",
       "      <th>obscene</th>\n",
       "      <th>threat</th>\n",
       "      <th>insult</th>\n",
       "      <th>identity_hate</th>\n",
       "      <th>cleaned_text</th>\n",
       "      <th>word_count</th>\n",
       "      <th>tag_count</th>\n",
       "    </tr>\n",
       "  </thead>\n",
       "  <tbody>\n",
       "  </tbody>\n",
       "</table>\n",
       "</div>"
      ],
      "text/plain": [
       "Empty DataFrame\n",
       "Columns: [id, comment_text, toxic, severe_toxic, obscene, threat, insult, identity_hate, cleaned_text, word_count, tag_count]\n",
       "Index: []"
      ]
     },
     "metadata": {},
     "output_type": "display_data"
    }
   ],
   "source": [
    "# Example of predicting on a new text input\n",
    "input_text = \"pretty much everyone from warren county/surrounding regions was born at glens falls hospital. myself included. however, i'm not sure this qualifies anyone as being a glens falls native. rachel ray is, i believe, actually from the town of lake luzerne.\"\n",
    "\n",
    "cleaned_text, prediction_result = predict_text(input_text)\n",
    "\n",
    "# Displaying the cleaned text and prediction result\n",
    "print(\"Cleaned Text:\", cleaned_text)\n",
    "print(\"\\nPrediction Result:\", prediction_result)\n",
    "print()\n",
    "display(train_df.loc[train_df['comment_text'] == input_text])"
   ]
  },
  {
   "cell_type": "markdown",
   "id": "b286370c",
   "metadata": {
    "papermill": {
     "duration": 0.017991,
     "end_time": "2024-11-07T14:48:48.552365",
     "exception": false,
     "start_time": "2024-11-07T14:48:48.534374",
     "status": "completed"
    },
    "tags": []
   },
   "source": [
    "---\n",
    "# 10. Predicting on Custom Input Text"
   ]
  },
  {
   "cell_type": "code",
   "execution_count": 28,
   "id": "a6751320",
   "metadata": {
    "execution": {
     "iopub.execute_input": "2024-11-07T14:48:48.588949Z",
     "iopub.status.busy": "2024-11-07T14:48:48.588602Z",
     "iopub.status.idle": "2024-11-07T14:48:48.593123Z",
     "shell.execute_reply": "2024-11-07T14:48:48.592082Z"
    },
    "papermill": {
     "duration": 0.025715,
     "end_time": "2024-11-07T14:48:48.595815",
     "exception": false,
     "start_time": "2024-11-07T14:48:48.570100",
     "status": "completed"
    },
    "tags": []
   },
   "outputs": [],
   "source": [
    "# input_text = input(\"Enter text for prediction :\")\n",
    "\n",
    "# cleaned_text, prediction_result = predict_text(input_text)\n",
    "# print(\"Cleaned Text:\", cleaned_text)\n",
    "# print(\"\\nPrediction Result:\", prediction_result)\n",
    "\n",
    "# #  F**k F_ck F**k F**king f*** fu*ker"
   ]
  },
  {
   "cell_type": "code",
   "execution_count": 29,
   "id": "5b258b70",
   "metadata": {
    "execution": {
     "iopub.execute_input": "2024-11-07T14:48:48.646346Z",
     "iopub.status.busy": "2024-11-07T14:48:48.645221Z",
     "iopub.status.idle": "2024-11-07T14:48:48.650365Z",
     "shell.execute_reply": "2024-11-07T14:48:48.649413Z"
    },
    "papermill": {
     "duration": 0.034226,
     "end_time": "2024-11-07T14:48:48.652838",
     "exception": false,
     "start_time": "2024-11-07T14:48:48.618612",
     "status": "completed"
    },
    "tags": []
   },
   "outputs": [],
   "source": [
    "# input_text = input(\"Enter text for prediction :\")\n",
    "\n",
    "# cleaned_text, prediction_result = predict_text(input_text)\n",
    "# print(\"Cleaned Text:\", cleaned_text)\n",
    "# print(\"\\nPrediction Result:\", prediction_result)\n",
    "\n",
    "# # a$$hole d!e ki!! b00bs s*x s3x"
   ]
  },
  {
   "cell_type": "markdown",
   "id": "3b190d87",
   "metadata": {
    "papermill": {
     "duration": 0.017507,
     "end_time": "2024-11-07T14:48:48.692054",
     "exception": false,
     "start_time": "2024-11-07T14:48:48.674547",
     "status": "completed"
    },
    "tags": []
   },
   "source": [
    "---"
   ]
  },
  {
   "cell_type": "code",
   "execution_count": 30,
   "id": "c8e5e89c",
   "metadata": {
    "execution": {
     "iopub.execute_input": "2024-11-07T14:48:48.729387Z",
     "iopub.status.busy": "2024-11-07T14:48:48.728499Z",
     "iopub.status.idle": "2024-11-07T14:48:48.733054Z",
     "shell.execute_reply": "2024-11-07T14:48:48.732199Z"
    },
    "papermill": {
     "duration": 0.025143,
     "end_time": "2024-11-07T14:48:48.734992",
     "exception": false,
     "start_time": "2024-11-07T14:48:48.709849",
     "status": "completed"
    },
    "tags": []
   },
   "outputs": [],
   "source": [
    "# 92.02% by keeping all columns\n",
    "# 92.11% by dropping columns - threat\n",
    "# 93.13% by dropping columns - severe_toxic, threat, identity_hate\n",
    "# 93.92% by dropping columns - severe_toxic, obscene, threat, identity_hate\n",
    "# 94.45% by dropping columns - severe_toxic, threat, identity_hate, insult\n",
    "# 95.94% keeping on toxic"
   ]
  }
 ],
 "metadata": {
  "kaggle": {
   "accelerator": "gpu",
   "dataSources": [
    {
     "databundleVersionId": 44219,
     "sourceId": 8076,
     "sourceType": "competition"
    }
   ],
   "dockerImageVersionId": 30787,
   "isGpuEnabled": true,
   "isInternetEnabled": true,
   "language": "python",
   "sourceType": "notebook"
  },
  "kernelspec": {
   "display_name": "Python 3",
   "language": "python",
   "name": "python3"
  },
  "language_info": {
   "codemirror_mode": {
    "name": "ipython",
    "version": 3
   },
   "file_extension": ".py",
   "mimetype": "text/x-python",
   "name": "python",
   "nbconvert_exporter": "python",
   "pygments_lexer": "ipython3",
   "version": "3.10.14"
  },
  "papermill": {
   "default_parameters": {},
   "duration": 177.89908,
   "end_time": "2024-11-07T14:48:49.370839",
   "environment_variables": {},
   "exception": null,
   "input_path": "__notebook__.ipynb",
   "output_path": "__notebook__.ipynb",
   "parameters": {},
   "start_time": "2024-11-07T14:45:51.471759",
   "version": "2.6.0"
  }
 },
 "nbformat": 4,
 "nbformat_minor": 5
}
